{
 "cells": [
  {
   "cell_type": "code",
   "execution_count": null,
   "metadata": {},
   "outputs": [],
   "source": [
    "from time import time\n",
    "from pyspark import SparkContext\n",
    "\n",
    "# test spark with 6 workers\n",
    "for j in range(1,7):\n",
    "    sc = SparkContext(master=f'local[{j}]')\n",
    "    t0 = time()\n",
    "    for i in range(6):\n",
    "        sc.parallelize([1,2] * 1000000).reduce(lambda x,y:x+y)\n",
    "    print(f'{j} executors, time= {time() - t0}')\n",
    "    sc.stop()"
   ]
  },
  {
   "cell_type": "code",
   "execution_count": null,
   "metadata": {},
   "outputs": [],
   "source": [
    "from pyspark.sql import SparkSession\n",
    "\n",
    "spark = SparkSession.builder.master(\"local[6]\").appName('reddit_wordcloud').getOrCreate()\n",
    "comments = spark.read.format(\"csv\")\\\n",
    "                     .option(\"sep\", \"\\t\")\\\n",
    "                     .options(inferschema='true',header='true')\\\n",
    "                     .load('/home/ubuntu/cs179g_venv/src/comments_join.tsv')\n",
    "comments_df = comments.toPandas()\n",
    "\n",
    "# clean up comments_df data\n",
    "comments_df = comments_df.rename({'Title' : 'Title', 'Combo': 'Comments'}, axis=1)\n",
    "comments_df = comments_df.drop('Title', axis=1)\n",
    "comments_df.Comments = comments_df.Comments.fillna('N/A') # bug with dropping NaNs, so fill with 'N/A'\n",
    "comments_df = comments_df[comments_df.Comments != 'N/A']  # drop rows with 'N/A'\n",
    "print(comments_df)"
   ]
  },
  {
   "cell_type": "code",
   "execution_count": null,
   "metadata": {},
   "outputs": [],
   "source": [
    "### wordcloud with words from 'comments_join'\n",
    "import pandas as pd\n",
    "import matplotlib.pyplot as plt\n",
    "from wordcloud import WordCloud\n",
    "\n",
    "comments_df_list = []\n",
    "\n",
    "# add all rows of short comments to a list\n",
    "for c in comments_df['Comments']:\n",
    "    comments_df_list.append(c)\n",
    "\n",
    "comments_str = \"\"\n",
    "for c in comments_df['Comments']:\n",
    "    comments_str += c + \" \"\n",
    "\n",
    "plt.figure(figsize = (20,16)) \n",
    "wc = WordCloud(max_words = 10000, width = 2000, height = 1000).generate(\" \".join(comments_df.Comments))\n",
    "plt.imshow(wc, interpolation = 'bilinear')\n",
    "plt.axis(\"off\")\n",
    "plt.show()"
   ]
  },
  {
   "cell_type": "code",
   "execution_count": null,
   "metadata": {},
   "outputs": [],
   "source": [
    "import pandas as pd\n",
    "import matplotlib.pyplot as plt\n",
    "from wordcloud import WordCloud\n",
    "\n",
    "titles_df = pd.read_csv(\"/home/ubuntu/cs179g_venv/src/all_posts_clean.csv\")\n",
    "titles_df = titles_df['Title']\n",
    "\n",
    "plt.figure(figsize = (20,16)) \n",
    "wc = WordCloud(max_words = 10000, width = 2000, height = 1000).generate(\" \".join(titles_df))\n",
    "plt.imshow(wc, interpolation = 'bilinear')\n",
    "plt.axis(\"off\")\n",
    "plt.show()"
   ]
  }
 ],
 "metadata": {
  "kernelspec": {
   "display_name": "Python 3.10.6 ('cs179g_venv': venv)",
   "language": "python",
   "name": "python3"
  },
  "language_info": {
   "codemirror_mode": {
    "name": "ipython",
    "version": 3
   },
   "file_extension": ".py",
   "mimetype": "text/x-python",
   "name": "python",
   "nbconvert_exporter": "python",
   "pygments_lexer": "ipython3",
   "version": "3.10.6"
  },
  "orig_nbformat": 4,
  "vscode": {
   "interpreter": {
    "hash": "3c08378ad6c07d120a4d4245f9b267779e1ab3289002ceb568db038a6234fccb"
   }
  }
 },
 "nbformat": 4,
 "nbformat_minor": 2
}
