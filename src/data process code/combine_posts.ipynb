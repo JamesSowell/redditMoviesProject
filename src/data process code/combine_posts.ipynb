{
 "cells": [
  {
   "cell_type": "code",
   "execution_count": null,
   "metadata": {},
   "outputs": [],
   "source": [
    "#import the modules\n",
    "import os\n",
    "import pandas as pd\n",
    "\n",
    "#read the csv file into a dataframe\n",
    "file_path = \"/home/ubuntu/cs179g_venv/src/posts_data/\"\n",
    "\n",
    "#list all the files from the directory\n",
    "file_list = os.listdir(file_path)\n",
    "print(file_list)\n",
    "\n",
    "file_list = ['10_29_hot_posts.csv', '11_01_hot_posts.csv', '11_01_top_day_posts.csv', '11_01_top_week_posts.csv', \n",
    "             '11_21_hot_posts.csv', '11_21_top_day_posts.csv', '11_21_top_week_posts.csv', 'controversial_day_posts.csv', \n",
    "             'controversial_hour_posts.csv', 'controversial_month_posts.csv', 'controversial_posts.csv', 'controversial_week_posts.csv', \n",
    "             'controversial_year_posts.csv', 'flicks_top_all_posts.csv', 'flicks_top_year_posts.csv', 'hot_posts.csv', \n",
    "             'netflixbestof_controversial_all_posts.csv', 'netflixbestof_controversial_year_posts.csv', 'netflixbestof_hot_posts.csv', \n",
    "             'netflixbestof_top_all_posts.csv', 'netflixbestof_top_year_posts.csv', 'top_day_posts.csv', 'top_hour_posts.csv', 'top_month_posts.csv', \n",
    "             'top_posts.csv', 'top_week_posts.csv', 'top_year_posts.csv', 'true_top_posts.csv', 'true_top_posts_year.csv']\n",
    "             \n",
    "df_concat = pd.concat([pd.read_csv(file_path + f, sep=',') for f in file_list ], ignore_index=True)\n",
    "orig_size = df_concat.shape[0]\n",
    "df_concat.to_csv(\"all_posts.csv\", index=False)"
   ]
  },
  {
   "cell_type": "code",
   "execution_count": null,
   "metadata": {},
   "outputs": [],
   "source": [
    "df_concat = df_concat.drop_duplicates(subset='ID', keep=\"last\")\n",
    "df_concat = df_concat.drop(['Unnamed: 0'], axis=1)\n",
    "df_concat = df_concat.drop(['Post Text'], axis=1)\n",
    "\n",
    "df_concat.to_csv(\"all_posts_clean.csv\", index=False)\n",
    "print(df_concat)\n",
    "print(df_concat.shape[0])\n",
    "print([i for i in range(0, orig_size) if i not in df_concat.index])"
   ]
  }
 ],
 "metadata": {
  "kernelspec": {
   "display_name": "Python 3.10.6 ('cs179g_venv': venv)",
   "language": "python",
   "name": "python3"
  },
  "language_info": {
   "name": "python",
   "version": "3.10.6"
  },
  "orig_nbformat": 4,
  "vscode": {
   "interpreter": {
    "hash": "3c08378ad6c07d120a4d4245f9b267779e1ab3289002ceb568db038a6234fccb"
   }
  }
 },
 "nbformat": 4,
 "nbformat_minor": 2
}
