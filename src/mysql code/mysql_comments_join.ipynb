{
 "cells": [
  {
   "cell_type": "code",
   "execution_count": null,
   "metadata": {},
   "outputs": [],
   "source": [
    "import mysql.connector\n",
    "import pandas as pd\n",
    "from pyspark.sql import SparkSession\n",
    "\n",
    "spark = SparkSession.builder.master(\"local[6]\").appName('reddit').getOrCreate()\n",
    "\n",
    "comments = spark.read.format(\"csv\")\\\n",
    "                     .option(\"sep\", \"\\t\")\\\n",
    "                     .options(inferschema='true',header='true')\\\n",
    "                     .load('/home/ubuntu/cs179g_venv/src/comments_join.tsv')\n",
    "comments_df = comments.toPandas()"
   ]
  },
  {
   "cell_type": "code",
   "execution_count": null,
   "metadata": {},
   "outputs": [],
   "source": [
    "# remove 'Title' column and fill NaNs with 'N/A' to prevent null error later\n",
    "comments_df.rename({'Title' : 'Title', 'Combo': 'Comments'}, axis=1, inplace=True)\n",
    "comments_df.Comments = comments_df.Comments.fillna('N/A')\n",
    "comments_df = comments_df.drop('Title', axis=1)"
   ]
  },
  {
   "cell_type": "code",
   "execution_count": null,
   "metadata": {},
   "outputs": [],
   "source": [
    "db_connection = mysql.connector.connect(user=\"mko022\", password=\"password_daniel\")\n",
    "db_cursor = db_connection.cursor()\n",
    "db_cursor.execute(\"USE cs179g;\")\n",
    "\n",
    "db_cursor.execute(\"CREATE TABLE comments(Title VARCHAR(510) NOT NULL, Comments VARCHAR(800) NOT NULL);\")\n",
    "\n",
    "posts_tuples = list(comments_df.itertuples(index=False, name=None))\n",
    "posts_string = str(posts_tuples).strip('[]')\n",
    "\n",
    "db_cursor.execute(\"INSERT INTO comments(Title, Comments) VALUES \" + posts_string + \";\")\n",
    "db_cursor.execute(\"FLUSH TABLES;\")\n",
    "\n",
    "# check if it works\n",
    "db_cursor.execute(\"SELECT * FROM comments LIMIT 10;\")\n",
    "print(db_cursor.fetchall())"
   ]
  }
 ],
 "metadata": {
  "kernelspec": {
   "display_name": "Python 3.10.6 ('cs179g_venv': venv)",
   "language": "python",
   "name": "python3"
  },
  "language_info": {
   "name": "python",
   "version": "3.10.6"
  },
  "orig_nbformat": 4,
  "vscode": {
   "interpreter": {
    "hash": "3c08378ad6c07d120a4d4245f9b267779e1ab3289002ceb568db038a6234fccb"
   }
  }
 },
 "nbformat": 4,
 "nbformat_minor": 2
}
