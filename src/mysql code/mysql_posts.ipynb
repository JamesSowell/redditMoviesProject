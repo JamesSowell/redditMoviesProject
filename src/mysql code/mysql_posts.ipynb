{
 "cells": [
  {
   "cell_type": "code",
   "execution_count": null,
   "metadata": {},
   "outputs": [],
   "source": [
    "import mysql.connector\n",
    "import pandas as pd\n",
    "\n",
    "posts_csv = pd.read_csv(\"/home/ubuntu/cs179g_venv/src/all_posts_clean.csv\", sep=\",\")\n",
    "\n",
    "db_connection = mysql.connector.connect(user=\"mko022\", password=\"password_daniel\")\n",
    "db_cursor = db_connection.cursor()\n",
    "db_cursor.execute(\"USE cs179g;\")\n",
    "\n",
    "# create posts table\n",
    "db_cursor.execute(\"CREATE TABLE posts(title VARCHAR(510) NOT NULL, id VARCHAR(10) NOT NULL, score INT NOT NULL, total_comments INT NOT NULL, url VARCHAR(510) NOT NULL, PRIMARY KEY (id));\")\n",
    "\n",
    "# store post titles, id, total score, total comments, and post url in a string\n",
    "posts_tuples = list(posts_csv.itertuples(index=False, name=None))\n",
    "posts_string = str(posts_tuples).strip('[]')\n",
    "\n",
    "# insert tuples string into table 'posts'\n",
    "db_cursor.execute(\"INSERT INTO posts(title, id, score, total_comments, url) VALUES \" + posts_string + \";\")\n",
    "db_cursor.execute(\"FLUSH TABLES;\")"
   ]
  }
 ],
 "metadata": {
  "kernelspec": {
   "display_name": "Python 3.10.6 ('cs179g_venv': venv)",
   "language": "python",
   "name": "python3"
  },
  "language_info": {
   "name": "python",
   "version": "3.10.6"
  },
  "orig_nbformat": 4,
  "vscode": {
   "interpreter": {
    "hash": "3c08378ad6c07d120a4d4245f9b267779e1ab3289002ceb568db038a6234fccb"
   }
  }
 },
 "nbformat": 4,
 "nbformat_minor": 2
}
