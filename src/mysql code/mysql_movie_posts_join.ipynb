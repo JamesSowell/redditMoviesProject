{
 "cells": [
  {
   "cell_type": "code",
   "execution_count": null,
   "metadata": {},
   "outputs": [],
   "source": [
    "import mysql.connector\n",
    "import pandas as pd\n",
    "from pyspark.sql import SparkSession\n",
    "\n",
    "spark = SparkSession.builder.master(\"local[6]\").appName('reddit').getOrCreate()\n",
    "combined_movies = spark.read.format(\"csv\").options(inferschema='true',header='true',delimiter='\\t').load('/home/ubuntu/cs179g_venv/src/combined.tsv')\n",
    "\n",
    "# clean up NaNs and column names for post titles and their respective movies\n",
    "combined_movies = combined_movies.filter(combined_movies.MovieTitle.contains(\"nan\") == False)\n",
    "combined_movies = combined_movies.withColumnRenamed(\"Title\", \"Post_Titles\")\n",
    "combined_movies = combined_movies.toPandas()\n",
    "combined_movies.to(\"combined_movies_vw\")"
   ]
  },
  {
   "cell_type": "code",
   "execution_count": null,
   "metadata": {},
   "outputs": [],
   "source": [
    "# clean up imdb movies dataset\n",
    "movies = pd.read_csv(\"/home/ubuntu/cs179g_venv/src/movies.csv\", sep=\",\")\n",
    "movies = spark.read.format(\"csv\").options(inferschema='true',header='true').load('/home/ubuntu/cs179g_venv/src/movies.csv')\n",
    "movies = movies.drop(\"movieId\")\n",
    "movies = movies.withColumnRenamed(\"title\", \"Movie_Titles\")\n",
    "movies.createOrReplaceTempView(\"movies_vw\")"
   ]
  },
  {
   "cell_type": "code",
   "execution_count": null,
   "metadata": {},
   "outputs": [],
   "source": [
    "# join 'combined_movies' and 'movies' and write to file\n",
    "joined_df = spark.sql(\"\"\"Select C.Post_Titles, M.Movie_Titles, M.genres from combined_movies_vw AS C inner join movies_vw AS M ON M.Movie_Titles = C.MovieTitle\"\"\")\n",
    "joined_df.createOrReplaceTempView(\"joined_vw\")\n",
    "joined_df.write.csv(\"/home/ubuntu/cs179g_venv/src/movies_join.csv\", sep='\\t')\n",
    "#joined_df.show(5)"
   ]
  },
  {
   "cell_type": "code",
   "execution_count": null,
   "metadata": {},
   "outputs": [],
   "source": [
    "# might need to change the path for posts_csv because of spark execution\n",
    "posts_csv = pd.read_csv(\"/home/ubuntu/cs179g_venv/src/movies_join.csv/part-00000-22c37347-9d31-4d1c-9e7c-4e2510bf79bf-c000.csv\", sep=\"\\t\")\n",
    "db_connection = mysql.connector.connect(user=\"mko022\", password=\"password_daniel\")\n",
    "\n",
    "# create table containing posts, movie titles, and genres\n",
    "db_cursor = db_connection.cursor()\n",
    "db_cursor.execute(\"USE cs179g;\")\n",
    "db_cursor.execute(\"CREATE TABLE imdb(Post_Titles VARCHAR(510) NOT NULL, Movie_Titles VARCHAR(510) NOT NULL, genres VARCHAR(125), PRIMARY KEY(Post_Titles));\")\n",
    "\n",
    "# store posts titles and movie titles in string\n",
    "posts_tuples = list(posts_csv.itertuples(index=False, name=None))\n",
    "posts_string = str(posts_tuples).strip('[]')\n",
    "\n",
    "# insert post titles and movie titles into table 'imdb'\n",
    "db_cursor.execute(\"INSERT INTO imdb(Post_Titles, Movie_Titles, genres) VALUES \" + posts_string + \";\")\n",
    "db_cursor.execute(\"FLUSH TABLES;\")"
   ]
  }
 ],
 "metadata": {
  "kernelspec": {
   "display_name": "Python 3.10.6 ('cs179g_venv': venv)",
   "language": "python",
   "name": "python3"
  },
  "language_info": {
   "name": "python",
   "version": "3.10.6"
  },
  "orig_nbformat": 4,
  "vscode": {
   "interpreter": {
    "hash": "3c08378ad6c07d120a4d4245f9b267779e1ab3289002ceb568db038a6234fccb"
   }
  }
 },
 "nbformat": 4,
 "nbformat_minor": 2
}
