{
 "cells": [
  {
   "cell_type": "code",
   "execution_count": null,
   "metadata": {},
   "outputs": [],
   "source": [
    "import mysql.connector\n",
    "import pandas as pd\n",
    "from pyspark.sql import SparkSession\n",
    "\n",
    "spark = SparkSession.builder.master(\"local[6]\").appName('reddit_wordcloud').getOrCreate()\n",
    "\n",
    "titles = spark.read.format(\"csv\")\\\n",
    "                     .option(\"sep\", \",\")\\\n",
    "                     .options(inferschema='true',header='true')\\\n",
    "                     .load('/home/ubuntu/cs179g_venv/src/all_posts_clean.csv')\n",
    "titles_df = titles.toPandas()\n",
    "titles_df = titles_df['Title']\n",
    "print(titles_df)"
   ]
  },
  {
   "cell_type": "code",
   "execution_count": null,
   "metadata": {},
   "outputs": [],
   "source": [
    "db_connection = mysql.connector.connect(user=\"mko022\", password=\"password_daniel\")\n",
    "db_cursor = db_connection.cursor()\n",
    "db_cursor.execute(\"USE cs179g;\")\n",
    "\n",
    "db_cursor.execute(\"DROP TABLE wordclouds;\")\n",
    "# create posts table\n",
    "db_cursor.execute(\"CREATE TABLE wordclouds(wordcloud_urls VARCHAR(510));\")\n",
    "\n",
    "# insert tuples string into table 'posts'\n",
    "db_cursor.execute(\"INSERT INTO wordclouds(wordcloud_urls) VALUES (\\\"/home/ubuntu/cs179g_venv/src/titles_wordcloud.png\\\");\")\n",
    "db_cursor.execute(\"INSERT INTO wordclouds(wordcloud_urls) VALUES (\\\"/home/ubuntu/cs179g_venv/src/comments_wordcloud.png\\\");\")\n",
    "\n",
    "db_cursor.execute(\"FLUSH TABLES;\")"
   ]
  }
 ],
 "metadata": {
  "kernelspec": {
   "display_name": "Python 3.10.6 ('cs179g_venv': venv)",
   "language": "python",
   "name": "python3"
  },
  "language_info": {
   "codemirror_mode": {
    "name": "ipython",
    "version": 3
   },
   "file_extension": ".py",
   "mimetype": "text/x-python",
   "name": "python",
   "nbconvert_exporter": "python",
   "pygments_lexer": "ipython3",
   "version": "3.10.6"
  },
  "orig_nbformat": 4,
  "vscode": {
   "interpreter": {
    "hash": "3c08378ad6c07d120a4d4245f9b267779e1ab3289002ceb568db038a6234fccb"
   }
  }
 },
 "nbformat": 4,
 "nbformat_minor": 2
}
