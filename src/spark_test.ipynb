{
 "cells": [
  {
   "cell_type": "code",
   "execution_count": null,
   "metadata": {},
   "outputs": [],
   "source": [
    "from pyspark.sql import SparkSession\n",
    "from pyspark import SparkContext\n",
    "from time import time\n",
    "\n",
    "# change the number of Spark workers to 6\n",
    "for j in range(1,7):\n",
    "    sc = SparkContext(master=f'local[{j}]')\n",
    "    t0 = time()\n",
    "    for i in range(6):\n",
    "        sc.parallelize([1,2] * 1000000).reduce(lambda x,y:x+y)\n",
    "    print(f'{j} executors, time= {time() - t0}')\n",
    "    sc.stop()\n",
    "\n",
    "spark = SparkSession.builder.master(\"local[6]\").appName('reddit').getOrCreate()"
   ]
  },
  {
   "cell_type": "code",
   "execution_count": 3,
   "metadata": {},
   "outputs": [
    {
     "name": "stdout",
     "output_type": "stream",
     "text": [
      "22/11/30 22:03:55 WARN SparkSession: Using an existing Spark session; only runtime SQL configurations will take effect.\n"
     ]
    },
    {
     "name": "stderr",
     "output_type": "stream",
     "text": [
      "[Stage 3:====================================================>    (12 + 1) / 13]\r"
     ]
    },
    {
     "name": "stdout",
     "output_type": "stream",
     "text": [
      "--- 9.52725338935852 seconds ---\n"
     ]
    },
    {
     "name": "stderr",
     "output_type": "stream",
     "text": [
      "                                                                                \r"
     ]
    }
   ],
   "source": [
    "### tests N workers runtime for 'all_comments.tsv' (1.7GB)\n",
    "start_time = time()\n",
    "\n",
    "movies = spark.read.format(\"csv\")\\\n",
    "                   .option(\"sep\", \"\\t\")\\\n",
    "                   .options(inferschema='true',header='true')\\\n",
    "                   .load('/home/ubuntu/cs179g_venv/src/all_comments.tsv')\n",
    "\n",
    "print(\"--- %s seconds ---\" % (time() - start_time))"
   ]
  },
  {
   "cell_type": "code",
   "execution_count": null,
   "metadata": {},
   "outputs": [],
   "source": [
    "### tests N workers runtime for 'movies.csv' (3MB)\n",
    "start_time = time()\n",
    "\n",
    "movies = spark.read.format(\"csv\")\\\n",
    "                   .options(inferschema='true',header='true')\\\n",
    "                   .load('/home/ubuntu/cs179g_venv/src/movies.csv')\n",
    "\n",
    "print(\"--- %s seconds ---\" % (time() - start_time))"
   ]
  }
 ],
 "metadata": {
  "kernelspec": {
   "display_name": "Python 3.10.6 ('cs179g_venv': venv)",
   "language": "python",
   "name": "python3"
  },
  "language_info": {
   "codemirror_mode": {
    "name": "ipython",
    "version": 3
   },
   "file_extension": ".py",
   "mimetype": "text/x-python",
   "name": "python",
   "nbconvert_exporter": "python",
   "pygments_lexer": "ipython3",
   "version": "3.10.6"
  },
  "orig_nbformat": 4,
  "vscode": {
   "interpreter": {
    "hash": "3c08378ad6c07d120a4d4245f9b267779e1ab3289002ceb568db038a6234fccb"
   }
  }
 },
 "nbformat": 4,
 "nbformat_minor": 2
}
